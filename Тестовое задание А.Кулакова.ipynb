{
 "cells": [
  {
   "cell_type": "markdown",
   "id": "bf698f2c",
   "metadata": {},
   "source": [
    "Нашей компании нужно сгруппировать клиентов для АБ-тестов. Алгоритм группировки очень простой - взять ID клиента (состоит из 5-7 цифр, например 7412567) и найти сумму всех его цифр. Получившееся число и является номером группы, в которую входит данный клиент.\n",
    "\n",
    "Для того, чтобы понять, насколько хорош такой простой алгоритм, тебе нужно написать следующие диагностические функции:\n",
    "\n",
    "1. Функция, которая подсчитывает число покупателей, попадающих в каждую группу, если нумерация ID сквозная и начинается с 0. На вход функция получает целое число n_customers (количество клиентов).\n",
    "2. Функция, аналогичная первой, если ID начинается с произвольного числа. На вход функция получает целые числа: n_customers (количество клиентов) и n_first_id (первый ID в последовательности)."
   ]
  },
  {
   "cell_type": "code",
   "execution_count": 1,
   "id": "ed7fbaae",
   "metadata": {},
   "outputs": [],
   "source": [
    "import pandas as pd"
   ]
  },
  {
   "cell_type": "code",
   "execution_count": 2,
   "id": "52628132",
   "metadata": {},
   "outputs": [],
   "source": [
    "#функция считает сумму цифр числа\n",
    "\n",
    "def sum_of_digits(num):\n",
    "    sum = 0\n",
    "    while num > 0:\n",
    "        sum += num % 10\n",
    "        num //= 10\n",
    "    return sum   "
   ]
  },
  {
   "cell_type": "code",
   "execution_count": 3,
   "id": "2a79f167",
   "metadata": {},
   "outputs": [],
   "source": [
    "# Функция, которая подсчитывает число покупателей, попадающих в каждую группу, \n",
    "# если нумерация ID сквозная и начинается с 0. \n",
    "# На вход функция получает целое число n_customers (количество клиентов)\n",
    "\n",
    "# Поскольку нумерация начинается с 0 и состоит из пяти цифр (а не представляет собой пятизначное число),\n",
    "# я предположила, что id клиентов с номерами от 0 до 9999 выводятся в пятизначном формате.\n",
    "# Таким образом, первый id - 00000.\n",
    "\n",
    "def num_of_buyers_in_the_group_1(n_customers):\n",
    "    \n",
    "    df = pd.DataFrame({'id': [], 'number_of_group': []})\n",
    "    for i in range(0, n_customers):\n",
    "        if i < 10000:\n",
    "            new_row = pd.DataFrame({'id': f'{i:0{5}}', 'number_of_group': [sum_of_digits(i)]})\n",
    "            df = pd.concat([df, new_row], ignore_index=True)\n",
    "        else:\n",
    "            new_row = pd.DataFrame({'id': i, 'number_of_group': [sum_of_digits(i)]})\n",
    "            df = pd.concat([df, new_row], ignore_index=True)\n",
    "    return df[\"number_of_group\"].value_counts()"
   ]
  },
  {
   "cell_type": "code",
   "execution_count": 4,
   "id": "c8f6318f",
   "metadata": {},
   "outputs": [
    {
     "data": {
      "text/plain": [
       "18.0    670\n",
       "19.0    660\n",
       "17.0    660\n",
       "16.0    633\n",
       "20.0    633\n",
       "15.0    592\n",
       "21.0    592\n",
       "14.0    540\n",
       "22.0    540\n",
       "13.0    480\n",
       "23.0    480\n",
       "24.0    415\n",
       "12.0    415\n",
       "25.0    348\n",
       "11.0    348\n",
       "26.0    282\n",
       "10.0    282\n",
       "27.0    220\n",
       "9.0     220\n",
       "28.0    165\n",
       "8.0     165\n",
       "29.0    120\n",
       "7.0     120\n",
       "6.0      84\n",
       "30.0     84\n",
       "31.0     56\n",
       "5.0      56\n",
       "4.0      35\n",
       "32.0     35\n",
       "3.0      20\n",
       "33.0     20\n",
       "2.0      10\n",
       "34.0     10\n",
       "1.0       4\n",
       "35.0      4\n",
       "0.0       1\n",
       "36.0      1\n",
       "Name: number_of_group, dtype: int64"
      ]
     },
     "execution_count": 4,
     "metadata": {},
     "output_type": "execute_result"
    }
   ],
   "source": [
    "num_of_buyers_in_the_group_1(10000)"
   ]
  },
  {
   "cell_type": "code",
   "execution_count": 5,
   "id": "2113ea45",
   "metadata": {},
   "outputs": [],
   "source": [
    "# Функция, которая подсчитывает число покупателей, попадающих в каждую группу, \n",
    "# если ID начинается с произвольного числа. \n",
    "# На вход функция получает целые числа: n_customers (количество клиентов) и n_first_id (первый ID в последовательности).\n",
    "\n",
    "def num_of_buyers_in_the_group_2(n_customers, n_first_id):\n",
    "\n",
    "    \n",
    "    df = pd.DataFrame({'id': [], 'number_of_group': []})\n",
    "    for i in range(n_first_id, n_customers + n_first_id):\n",
    "        if i < 10000:\n",
    "            new_row = pd.DataFrame({'id': f'{i:0{5}}', 'number_of_group': [sum_of_digits(i)]})\n",
    "            df = pd.concat([df, new_row], ignore_index=True)\n",
    "        else:\n",
    "            new_row = pd.DataFrame({'id': i, 'number_of_group': [sum_of_digits(i)]})\n",
    "            df = pd.concat([df, new_row], ignore_index=True)\n",
    "    return df[\"number_of_group\"].value_counts()"
   ]
  },
  {
   "cell_type": "code",
   "execution_count": 6,
   "id": "3eb3f2d8",
   "metadata": {},
   "outputs": [
    {
     "data": {
      "text/plain": [
       "12.0    28\n",
       "13.0    27\n",
       "11.0    27\n",
       "10.0    24\n",
       "14.0    24\n",
       "9.0     21\n",
       "15.0    21\n",
       "8.0     18\n",
       "16.0    18\n",
       "7.0     15\n",
       "17.0    15\n",
       "6.0     12\n",
       "18.0    12\n",
       "5.0      9\n",
       "19.0     9\n",
       "4.0      6\n",
       "20.0     6\n",
       "21.0     3\n",
       "3.0      3\n",
       "2.0      1\n",
       "22.0     1\n",
       "Name: number_of_group, dtype: int64"
      ]
     },
     "execution_count": 6,
     "metadata": {},
     "output_type": "execute_result"
    }
   ],
   "source": [
    "# Здесь я предположила, что пользователь вводит id без нулей перед числом короче пятизначного\n",
    "num_of_buyers_in_the_group_2(300, 200)"
   ]
  },
  {
   "cell_type": "code",
   "execution_count": 7,
   "id": "ba4a4044",
   "metadata": {},
   "outputs": [
    {
     "data": {
      "text/plain": [
       "13.0    28\n",
       "14.0    27\n",
       "12.0    27\n",
       "11.0    24\n",
       "15.0    24\n",
       "10.0    21\n",
       "16.0    21\n",
       "9.0     18\n",
       "17.0    18\n",
       "8.0     15\n",
       "18.0    15\n",
       "7.0     12\n",
       "19.0    12\n",
       "6.0      9\n",
       "20.0     9\n",
       "5.0      6\n",
       "21.0     6\n",
       "22.0     3\n",
       "4.0      3\n",
       "3.0      1\n",
       "23.0     1\n",
       "Name: number_of_group, dtype: int64"
      ]
     },
     "execution_count": 7,
     "metadata": {},
     "output_type": "execute_result"
    }
   ],
   "source": [
    "num_of_buyers_in_the_group_2(300, 12000)"
   ]
  },
  {
   "cell_type": "code",
   "execution_count": null,
   "id": "1aa421e3",
   "metadata": {},
   "outputs": [],
   "source": []
  }
 ],
 "metadata": {
  "kernelspec": {
   "display_name": "Python 3 (ipykernel)",
   "language": "python",
   "name": "python3"
  },
  "language_info": {
   "codemirror_mode": {
    "name": "ipython",
    "version": 3
   },
   "file_extension": ".py",
   "mimetype": "text/x-python",
   "name": "python",
   "nbconvert_exporter": "python",
   "pygments_lexer": "ipython3",
   "version": "3.10.7"
  }
 },
 "nbformat": 4,
 "nbformat_minor": 5
}
